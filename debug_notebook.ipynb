{
  "cells": [
    {
      "cell_type": "markdown",
      "metadata": {},
      "source": [
        "# Debug Notebook Demo\n",
        "\n",
        "This notebook is for practicing VS Code's Jupyter debugging (Debug Cell / Run by Line)."
      ]
    },
    {
      "cell_type": "code",
      "execution_count": 1,
      "metadata": {},
      "outputs": [],
      "source": [
        "def compute_ratio(a, b):\n",
        "    return a / b  # Put a breakpoint here, b can be 0\n"
      ]
    },
    {
      "cell_type": "code",
      "execution_count": null,
      "metadata": {},
      "outputs": [],
      "source": [
        "values = [1, 2, 3, 0, 4]\n",
        "total = 0\n",
        "for v in values:\n",
        "    # Set a conditional breakpoint here with expression: v == 0\n",
        "    total += compute_ratio(10, v)\n",
        "total\n"
      ]
    }
  ],
  "metadata": {
    "kernelspec": {
      "display_name": "mude-base",
      "language": "python",
      "name": "python3"
    },
    "language_info": {
      "codemirror_mode": {
        "name": "ipython",
        "version": 3
      },
      "file_extension": ".py",
      "mimetype": "text/x-python",
      "name": "python",
      "nbconvert_exporter": "python",
      "pygments_lexer": "ipython3",
      "version": "3.12.11"
    }
  },
  "nbformat": 4,
  "nbformat_minor": 5
}
