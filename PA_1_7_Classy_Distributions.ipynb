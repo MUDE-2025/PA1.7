{
 "cells": [
  {
   "cell_type": "markdown",
   "metadata": {},
   "source": [
    "# Programming Assignment 1.7: Classy Distributions\n",
    "\n",
    "*[CEGM1000 MUDE](http://mude.citg.tudelft.nl/)*\n",
    "\n",
    "*Written by: Robert Lanzafame, Tom van Woudenberg*\n",
    "\n",
    "*Due: Friday, October 17, 2025.*"
   ]
  },
 {
   "cell_type": "markdown",
   "id": "b603938e",
   "metadata": {},
   "source": [
    "## Overview\n",
    "This assignment will help you understand more about Object Oriented Programming (OOP) in Python, by exploring how it's used in Scipy. In Python, OOP is done through classes, so you'll learn a bit about how classes can be useful and how to define and instantiate them. You will also learn about subclassing, otherwise known as inheritance, which is the ability for one (child) class to inherit the properties of another (parent) class."
   ]
  },
  {
   "cell_type": "markdown",
   "metadata": {},
   "source": [
    "## Part 1: Playing with Subclasses\n",
    "\n",
    "We'll start by looking at some simple code that shows all the basics: defining a class, instantiating classes and inheritance. You're not required to do anything with it, but feel free to change this and play around!"
   ]
  },
  {
   "cell_type": "code",
   "execution_count": 1,
   "id": "846ae254",
   "metadata": {},
   "outputs": [],
   "source": [
    "class Person:\n",
    "    def __init__(self, name):\n",
    "        self.name = name\n",
    "    \n",
    "    def say_hello(self):\n",
    "        print(f\"Hey, I'm {self.name}, nice to meet you!\")\n",
    "\n",
    "class Employee(Person):\n",
    "    known_salaries = {\"janitor\": 50000, \"professor\": 100, \"trader\": 100000}\n",
    "    \n",
    "    def __init__(self, name, job):\n",
    "        super().__init__(name)\n",
    "        self.job = job\n",
    "    \n",
    "    def salary(self):\n",
    "        if self.job.lower() in self.known_salaries:\n",
    "            print(f\"My salary is ${self.known_salaries[self.job.lower()]}!\")\n",
    "        else:\n",
    "            print(\"I'm not too sure what my salary is :(\")\n",
    "\n",
    "class Friend(Person):\n",
    "    def say_hello(self):\n",
    "        print(\"Yoo, how are you doing? It's lovely to see you again :)\")\n",
    "\n",
    "def greet_person(person):\n",
    "    person.say_hello()\n",
    "    print(f\"Hey {person.name}!\")"
   ]
  },
{
   "cell_type": "code",
   "execution_count": 2,
   "id": "63487767",
   "metadata": {},
   "outputs": [
    {
     "data": {
      "text/plain": [
      "Hey, I'm James, nice to meet you!\n",
      "\n",
      "My salary is $50000!\n",
      "Hey, I'm Emma, nice to meet you!\n",
      "\n",
      "Yoo, how are you doing? It's lovely to see you again :)\n",
      "Hey Philip!\n",
      "\n",
      "Hey, I'm Emma, nice to meet you!\n",
      "Hey Emma!\n"
      ]
     },
     "execution_count": 2,
     "metadata": {},
     "output_type": "execute_result"
    }
   ],
   "source": [
    "james = Person(\"James\")\n",
    "james.say_hello()\n",
    "print()\n",
    "\n",
    "emma = Employee(\"Emma\", \"Janitor\")\n",
    "emma.salary()\n",
    "emma.say_hello()\n",
    "print()\n",
    "\n",
    "philip = Friend(\"Philip\")\n",
    "greet_person(philip)\n",
    "print()\n",
    "greet_person(emma)"
   ]
  },
{
   "cell_type": "markdown",
   "id": "b467042b",
   "metadata": {},
   "source": [
    "\n",
    "Notice that Emma can say hello, but James doesn't have a salary! The children class *extends* the parent. Confused about the `__init__` or `self`? Go check out the [reading](#Reading)! Also notice that since the `Friend` subclass and `Employee` subclasses both have `say_hello`, we can use either one in the `greet_person` function. You'll use this princople to complete **Task 1.1**."
   ]
  },


  {
   "cell_type": "markdown",
   "metadata": {},
   "source": [
    "## Part 2: Inheritance and Distributions\n",
    "\n",
    "In this part we will use inheritance to create our own custom distribution using the parent class `scipy.stats.rv_continuous`!\n",
    "\n",
    "First we will define a function to help make plots easily, then we will confirm we can create a distribution. Finally, you will implement your own child class of `scipy.stats.rv_continuous`."
   ]
  },
{
   "cell_type": "markdown",
   "id": "e5ca9662",
   "metadata": {},
   "source": [
    "<div style=\"background-color:#AABAB2; color: black; width:90%; vertical-align: middle; padding:15px; margin: 10px; border-radius: 10px\">\n",
    "<p>\n",
    "\n",
    "$\\text{Task 1.1:}$\n",
    "    \n",
    "Below there's some code that takes a distribution from Scipy and plots it. Read it to understand what it does, then run the cell so that we can use it later.\n",
    "</p>\n",
    "</div>"
   ]
  },
{
   "cell_type": "code",
   "execution_count": 3,
   "id": "846ae254",
   "metadata": {},
   "outputs": [],
   "source": [
    "# DO NOT TOUCH ANYTHING IN THIS CODE CELL!\n",
    "\n",
    "import scipy.stats\n",
    "import numpy as np\n",
    "import matplotlib.pyplot as plt\n",
    "import pandas as pd\n",
    "\n",
    "def plot_distribution(distribution, x_bounds = (-5, 5), function=\"pdf\"):\n",
    "    X_LOW, X_HIGH = x_bounds\n",
    "\n",
    "    x_axis = np.linspace(X_LOW, X_HIGH, num=1000)\n",
    "    \n",
    "    distribution_function = None\n",
    "    \n",
    "    if function == \"pdf\":\n",
    "        distribution_function = distribution.pdf\n",
    "    elif function == \"cdf\":\n",
    "        distribution_function = distribution.cdf\n",
    "    else:\n",
    "        raise KeyError(f\"{function} function not supported\")\n",
    "    \n",
    "    y_axis = np.vectorize(distribution_function)(x_axis)\n",
    "\n",
    "    plt.figure(figsize=(15, 5))\n",
    "    plt.plot(x_axis, y_axis)\n",
    "    plt.title(\"PDF of distribution\")\n",
    "    plt.xlabel(\"x\")\n",
    "    plt.xticks(np.linspace(X_LOW, X_HIGH, num=((X_HIGH - X_LOW) * 2 + 1)))\n",
    "    plt.ylabel(\"f(x)\")\n",
    "    plt.show()\n",
    "    \n",
    "    return x_axis, y_axis"
   ]
  },
{
   "cell_type": "markdown",
   "id": "b467042b",
   "metadata": {},
   "source": [
    "\n",
    "In Scipy all distributions are children of the same parent class [`rv_continous`](https://docs.scipy.org/doc/scipy/reference/generated/scipy.stats.rv_continuous.html#scipy.stats.rv_continuous). Read the documentation to get a feeling for what this parent class defines. One method it defines is the `.pdf` method, so if we just rely on that, we can freely swap between children classes!"
   ]
  },
{
   "cell_type": "markdown",
   "id": "e5ca9662",
   "metadata": {},
   "source": [
    "<div style=\"background-color:#AABAB2; color: black; width:90%; vertical-align: middle; padding:15px; margin: 10px; border-radius: 10px\">\n",
    "<p>\n",
    "\n",
    "$\\text{Task 1.2:}$\n",
    "    \n",
    "Below there's some code that takes a Normal distribution from Scipy and plots it, using our function. Pretty cool, right?\n",
    "\n",
    "Test your understanding of this distribution by changing the standard deviation to 3 instead of 1. Does the figure respond as expected?\n",
    "</p>\n",
    "</div>"
   ]
  },
{
   "cell_type": "code",
   "execution_count": null,
   "id": "3570dde2",
   "metadata": {
    "tags": [
     "assignment"
    ]
   },
   "outputs": [],
   "source": [
    "distribution = scipy.stats.norm(loc = 1)\n",
    "x_axis, y_axis = plot_distribution(distribution)"
   ]
  },
 {
   "cell_type": "code",
   "execution_count": 4,
   "metadata": {
    "tags": [
     "solution"
    ]
   },
   "outputs": [
    {
     "data": {
      "image/png": "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",
      "text/plain": [
       "<Figure size 1500x500 with 1 Axes>"
      ]
     },
     "metadata": {},
     "output_type": "display_data"
    }
   ],
   "source": [
    "distribution = scipy.stats.norm(loc = 1, scale = 3)\n",
    "x_axis, y_axis = plot_distribution(distribution)"
   ]
  },
{
   "cell_type": "markdown",
   "id": "e5ca9662",
   "metadata": {},
   "source": [
    "<div style=\"background-color:#AABAB2; color: black; width:90%; vertical-align: middle; padding:15px; margin: 10px; border-radius: 10px\">\n",
    "<p>\n",
    "\n",
    "$\\text{Task 1.3:}$\n",
    "    \n",
    "Complete the code below to create your own Uniform distribution from 1 to 3 and use the plotting function to confirm you have done it correctly.\n",
    "</p>\n",
    "</div>"
   ]
  },
{
   "cell_type": "markdown",
   "id": "b896530b",
   "metadata": {},
   "source": [
    "<div style=\"background-color:#facb8e; color: black; vertical-align: middle; padding:15px; margin: 10px; border-radius: 10px; width: 90%\"> <p>\n",
    "\n",
    "$\\text{Tip:}$\n",
    "\n",
    "At this point, it becomes important that you understand what a continuous parametric distribution is. If you have no idea what we are talking about, it is time to read the theory textbook chapters for this week!\n",
    "</p></div>"
   ]
  },
{
   "cell_type": "code",
   "execution_count": null,
   "id": "3570dde2",
   "metadata": {
    "tags": [
     "assignment"
    ]
   },
   "outputs": [],
   "source": [
    ""distribution = scipy.stats.uniform(# YOUR_CODE_HERE)\n",
    "x_axis, y_axis = plot_distribution(distribution)"
   ]
  },












































































  {
   "cell_type": "markdown",
   "metadata": {},
   "source": [
    "<div style=\"margin-top: 50px; padding-top: 20px; border-top: 1px solid #ccc;\">\n",
    "  <div style=\"display: flex; justify-content: flex-end; gap: 20px; align-items: center;\">\n",
    "    <a rel=\"MUDE\" href=\"http://mude.citg.tudelft.nl/\">\n",
    "      <img alt=\"MUDE\" style=\"width:100px; height:auto;\" src=\"https://gitlab.tudelft.nl/mude/public/-/raw/main/mude-logo/MUDE_Logo-small.png\" />\n",
    "    </a>\n",
    "    <a rel=\"TU Delft\" href=\"https://www.tudelft.nl/en/ceg\">\n",
    "      <img alt=\"TU Delft\" style=\"width:100px; height:auto;\" src=\"https://gitlab.tudelft.nl/mude/public/-/raw/main/tu-logo/TU_P1_full-color.png\" />\n",
    "    </a>\n",
    "    <a rel=\"license\" href=\"http://creativecommons.org/licenses/by/4.0/\">\n",
    "      <img alt=\"Creative Commons License\" style=\"width:88px; height:auto;\" src=\"https://i.creativecommons.org/l/by/4.0/88x31.png\" />\n",
    "    </a>\n",
    "  </div>\n",
    "  <div style=\"font-size: 75%; margin-top: 10px; text-align: right;\">\n",
    "    &copy; Copyright 2025 <a rel=\"MUDE\" href=\"http://mude.citg.tudelft.nl/\">MUDE</a> TU Delft. \n",
    "    This work is licensed under a <a rel=\"license\" href=\"http://creativecommons.org/licenses/by/4.0/\">CC BY 4.0 License</a>.\n",
    "  </div>\n",
    "</div>"
   ]
  }
 ],
 "metadata": {
  "kernelspec": {
   "display_name": "base",
   "language": "python",
   "name": "python3"
  },
  "language_info": {
   "codemirror_mode": {
    "name": "ipython",
    "version": 3
   },
   "file_extension": ".py",
   "mimetype": "text/x-python",
   "name": "python",
   "nbconvert_exporter": "python",
   "pygments_lexer": "ipython3",
   "version": "3.9.18"
  }
 },
 "nbformat": 4,
 "nbformat_minor": 2
}
