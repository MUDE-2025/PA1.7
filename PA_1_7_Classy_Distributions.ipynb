{
 "cells": [
  {
   "cell_type": "markdown",
   "metadata": {},
   "source": [
    "# Programming Assignment 1.7: Classy Distributions\n",
    "\n",
    "*[CEGM1000 MUDE](http://mude.citg.tudelft.nl/)*\n",
    "\n",
    "*Written by: Robert Lanzafame, Tom van Woudenberg*\n",
    "\n",
    "*Due: Friday, October 17, 2025.*"
   ]
  },
 {
   "cell_type": "markdown",
   "id": "b603938e",
   "metadata": {},
   "source": [
    "## Overview\n",
    "This assignment will help you understand more about Object Oriented Programming (OOP) in Python, by exploring how it's used in Scipy. In Python, OOP is done through classes, so you'll learn a bit about how classes can be useful and how to define and instantiate them. You will also learn about subclassing, otherwise known as inheritance, which is the ability for one (child) class to inherit the properties of another (parent) class."
   ]
  },
  {
   "cell_type": "markdown",
   "metadata": {},
   "source": [
    "## Part 1:Playing with subclasses"
   ]
  },
{
   "cell_type": "markdown",
   "id": "b467042b",
   "metadata": {},
   "source": [
    "\n",
    "We'll start by looking at some simple code that shows all the basics: defining a class, instantiating classes and inheritance. You're not required to do anything with it, but feel free to change this and play around!"
   ]
  },
  {
   "cell_type": "code",
   "execution_count": 1,
   "id": "846ae254",
   "metadata": {},
   "outputs": [],
   "source": [
    "class Person:\n",
    "    def __init__(self, name):\n",
    "        self.name = name\n",
    "    \n",
    "    def say_hello(self):\n",
    "        print(f\"Hey, I'm {self.name}, nice to meet you!\")\n",
    "\n",
    "class Employee(Person):\n",
    "    known_salaries = {\"janitor\": 50000, \"professor\": 100, \"trader\": 100000}\n",
    "    \n",
    "    def __init__(self, name, job):\n",
    "        super().__init__(name)\n",
    "        self.job = job\n",
    "    \n",
    "    def salary(self):\n",
    "        if self.job.lower() in self.known_salaries:\n",
    "            print(f\"My salary is ${self.known_salaries[self.job.lower()]}!\")\n",
    "        else:\n",
    "            print(\"I'm not too sure what my salary is :(\")\n",
    "\n",
    "class Friend(Person):\n",
    "    def say_hello(self):\n",
    "        print(\"Yoo, how are you doing? It's lovely to see you again :)\")\n",
    "\n",
    "def greet_person(person):\n",
    "    person.say_hello()\n",
    "    print(f\"Hey {person.name}!\")"
   ]
  },
{
   "cell_type": "code",
   "execution_count": 2,
   "id": "63487767",
   "metadata": {},
   "outputs": [
    {
     "data": {
      "text/plain": [
      "Hey, I'm James, nice to meet you!\n",
      "\n",
      "My salary is $50000!\n",
      "Hey, I'm Emma, nice to meet you!\n",
      "\n",
      "Yoo, how are you doing? It's lovely to see you again :)\n",
      "Hey Philip!\n",
      "\n",
      "Hey, I'm Emma, nice to meet you!\n",
      "Hey Emma!\n"
      ]
     },
     "execution_count": 2,
     "metadata": {},
     "output_type": "execute_result"
    }
   ],
   "source": [
    "james = Person(\"James\")\n",
    "james.say_hello()\n",
    "print()\n",
    "\n",
    "emma = Employee(\"Emma\", \"Janitor\")\n",
    "emma.salary()\n",
    "emma.say_hello()\n",
    "print()\n",
    "\n",
    "philip = Friend(\"Philip\")\n",
    "greet_person(philip)\n",
    "print()\n",
    "greet_person(emma)"
   ]
  },
{
   "cell_type": "markdown",
   "id": "b467042b",
   "metadata": {},
   "source": [
    "\n",
    "Notice that Emma can say hello, but James doesn't have a salary! The children class *extends* the parent. Confused about the `__init__` or `self`? Go check out the [reading](#Reading)! Also notice that since the `Friend` subclass and `Employee` subclasses both have `say_hello`, we can use either one in the `greet_person` function. You'll use this princople to complete **Task 1.1**."
   ]
  },




























































{
   "cell_type": "markdown",
   "metadata": {},
   "source": [
    "<div style=\"background-color:#AABAB2; color: black; width:90%; vertical-align: middle; padding:15px; margin: 10px; border-radius: 10px\">\n",
    "<p>\n",
    "\n",
    "$\\text{Task x.x:}$\n",
    "    \n",
    "Run the cell below to load two dictionaries (objects) into the Python variable space, <code>m1</code> and <code>m2</code>. Some random math: $E = m \\cdot c^2$. And\n",
    "\n",
    "$$F = m \\cdot a$$\n",
    "\n",
    "You can run the code to check the key:value pairs.\n",
    "    \n",
    "</p>\n",
    "</div>"
   ]
  },
  {
   "cell_type": "code",
   "execution_count": null,
   "metadata": {},
   "outputs": [],
   "source": [
    "# Provided code which is not to be edited by students\n",
    "import numpy as np"
   ]
  },
  {
   "cell_type": "code",
   "execution_count": null,
   "metadata": {
    "tags": [
     "assignment"
    ]
   },
   "outputs": [],
   "source": [
    "# The code given to students can be indicated with:\n",
    "# with a cell tag `assignment`.\n",
    "# These cells will be removed from the solution notebook.\n",
    "# The assignment notebook will be generated after a push to main and\n",
    "# will be stored on the branch `assignment`.\n",
    "# Places where student should write their code are marked with `### YOUR CODE HERE ###` for filling in a single line\n",
    "# or with `### YOUR CODE LINES HERE` for filling in multiple lines\n",
    "\n",
    "import numpy as np\n",
    "\n",
    "a = [### YOUR CODE HERE ###]\n",
    "    \n",
    "### YOUR CODE LINES HERE\n",
    "\n",
    "print('First 20 fibonacci numbers:', ### YOUR CODE HERE ###)"
   ]
  },
  {
   "cell_type": "markdown",
   "metadata": {},
   "source": [
    "<div style=\"background-color:#FAE99E; color: black; vertical-align: middle; padding:15px; margin: 10px; border-radius: 10px; width: 90%\">\n",
    "\n",
    "$\\text{Solution x.x:}$\n",
    "\n",
    "Having trouble understanding how the Gauss-Newton scheme works? Do you want to visualize how the parameters and model change on each iteration? Try uncommenting the cell below to create an interactive plot!\n",
    "\n",
    "It is set up to visualize the model on each iteration. You can gain insight into the way convergence occurs by changing the value of <code>initial_guess_alternative</code> and rerunning the cell.\n",
    "</p></div>\n",
    "\n",
    "Cells containing a solution block (with color ` #FAE99E`) will be removed in the assignment notebook."
   ]
  },
  {
   "cell_type": "code",
   "execution_count": null,
   "metadata": {
    "tags": [
     "solution"
    ]
   },
   "outputs": [],
   "source": [
    "# Solution code (in a separate cell) is indicated with\n",
    "# a cell tag 'solution'.\n",
    "# These cells will be removed from the assignment notebook.\n",
    "# The assignment notebook will be generated after a push to main and\n",
    "# will be stored on the branch `solution`.\n",
    "\n",
    "a = [0,2]\n",
    "\n",
    "for i in range(2, 20):\n",
    "    a.append(a[i-1] + a[i-2])\n",
    "\n",
    "print('First 20 fibonacci numbers:', a)"
   ]
  },
  {
   "cell_type": "markdown",
   "metadata": {},
   "source": [
    "<div style=\"background-color:#FAE99E; color: black; vertical-align: middle; padding:15px; margin: 10px; border-radius: 10px; width: 90%\">\n",
    "<p>\n",
    "End of solution.\n",
    "</p>\n",
    "</div>\n",
    "\n",
    "Cells containing a solution block (with color ` #FAE99E`) will be removed in the assignment notebook."
   ]
  },
  {
   "cell_type": "markdown",
   "metadata": {},
   "source": [
    "<div style=\"background-color:#facb8e; color: black; vertical-align: middle; padding:15px; margin: 10px; border-radius: 10px; width: 90%\"> <p>\n",
    "\n",
    "$\\text{Tip:}$\n",
    "\n",
    "Don't use the CSS danger/warning blocks because they don't display when converting to HTML with pandoc (won't display right on course files on website).\n",
    "</p></div>"
   ]
  },
  {
   "cell_type": "markdown",
   "metadata": {},
   "source": [
    "## Part `2, ...`"
   ]
  },
  {
   "cell_type": "markdown",
   "metadata": {},
   "source": [
    "<div style=\"margin-top: 50px; padding-top: 20px; border-top: 1px solid #ccc;\">\n",
    "  <div style=\"display: flex; justify-content: flex-end; gap: 20px; align-items: center;\">\n",
    "    <a rel=\"MUDE\" href=\"http://mude.citg.tudelft.nl/\">\n",
    "      <img alt=\"MUDE\" style=\"width:100px; height:auto;\" src=\"https://gitlab.tudelft.nl/mude/public/-/raw/main/mude-logo/MUDE_Logo-small.png\" />\n",
    "    </a>\n",
    "    <a rel=\"TU Delft\" href=\"https://www.tudelft.nl/en/ceg\">\n",
    "      <img alt=\"TU Delft\" style=\"width:100px; height:auto;\" src=\"https://gitlab.tudelft.nl/mude/public/-/raw/main/tu-logo/TU_P1_full-color.png\" />\n",
    "    </a>\n",
    "    <a rel=\"license\" href=\"http://creativecommons.org/licenses/by/4.0/\">\n",
    "      <img alt=\"Creative Commons License\" style=\"width:88px; height:auto;\" src=\"https://i.creativecommons.org/l/by/4.0/88x31.png\" />\n",
    "    </a>\n",
    "  </div>\n",
    "  <div style=\"font-size: 75%; margin-top: 10px; text-align: right;\">\n",
    "    &copy; Copyright 2025 <a rel=\"MUDE\" href=\"http://mude.citg.tudelft.nl/\">MUDE</a> TU Delft. \n",
    "    This work is licensed under a <a rel=\"license\" href=\"http://creativecommons.org/licenses/by/4.0/\">CC BY 4.0 License</a>.\n",
    "  </div>\n",
    "</div>"
   ]
  }
 ],
 "metadata": {
  "kernelspec": {
   "display_name": "base",
   "language": "python",
   "name": "python3"
  },
  "language_info": {
   "codemirror_mode": {
    "name": "ipython",
    "version": 3
   },
   "file_extension": ".py",
   "mimetype": "text/x-python",
   "name": "python",
   "nbconvert_exporter": "python",
   "pygments_lexer": "ipython3",
   "version": "3.9.18"
  }
 },
 "nbformat": 4,
 "nbformat_minor": 2
}
