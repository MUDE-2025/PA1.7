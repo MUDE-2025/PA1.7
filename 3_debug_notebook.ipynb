{
  "cells": [
    {
      "cell_type": "markdown",
      "metadata": {},
      "source": [
        "# Debugging a Jupyter Notebook cell\n",
        "\n",
        "This can be ... problematic. There is a known issue with debugging Jupyter Notebooks in VS Code that makes working with it very frustrating from time to time, as described here: https://github.com/microsoft/vscode/issues/150219\n",
        "\n",
        "If you want to debug a Jupyter Notebook cell, click the arrow next to the cell and select \"Debug Cell\": \n",
        "\n",
        "![](https://code.visualstudio.com/assets/docs/datascience/jupyter/debug-cell.png)\n",
        "\n",
        "This arrow sometimes disappear. If that happens, click in the toolbar: View - > Command Palette... and type \"Developer: Reload Window\". This will reload the VS Code window and the arrow should appear again. Otherwise, you can click `Ctrl` + `Shift` + `Alt` + `Enter` to start debugging a specific cell.\n",
        "\n",
        "If this all works, you can debug notebooks in the same way as Python files, with breakpoints, stepping, inspecting variables, etc."
      ]
    },
    {
      "cell_type": "code",
      "execution_count": 1,
      "metadata": {},
      "outputs": [],
      "source": [
        "def compute_ratio(a, b):\n",
        "    return a / b  # Put a breakpoint here, b can be 0\n"
      ]
    },
    {
      "cell_type": "code",
      "execution_count": 8,
      "metadata": {},
      "outputs": [
        {
          "ename": "ZeroDivisionError",
          "evalue": "division by zero",
          "output_type": "error",
          "traceback": [
            "\u001b[31m---------------------------------------------------------------------------\u001b[39m",
            "\u001b[31mZeroDivisionError\u001b[39m                         Traceback (most recent call last)",
            "\u001b[36mCell\u001b[39m\u001b[36m \u001b[39m\u001b[32mIn[8]\u001b[39m\u001b[32m, line 5\u001b[39m\n\u001b[32m      2\u001b[39m total = \u001b[32m0\u001b[39m\n\u001b[32m      3\u001b[39m \u001b[38;5;28;01mfor\u001b[39;00m v \u001b[38;5;129;01min\u001b[39;00m values:\n\u001b[32m      4\u001b[39m     \u001b[38;5;66;03m# Set a conditional breakpoint here with expression: v == 0\u001b[39;00m\n\u001b[32m----> \u001b[39m\u001b[32m5\u001b[39m     total += compute_ratio(\u001b[32m10\u001b[39m, v)\n\u001b[32m      6\u001b[39m total\n",
            "\u001b[36mCell\u001b[39m\u001b[36m \u001b[39m\u001b[32mIn[1]\u001b[39m\u001b[32m, line 2\u001b[39m, in \u001b[36mcompute_ratio\u001b[39m\u001b[34m(a, b)\u001b[39m\n\u001b[32m      1\u001b[39m \u001b[38;5;28;01mdef\u001b[39;00m\u001b[38;5;250m \u001b[39m\u001b[34mcompute_ratio\u001b[39m(a, b):\n\u001b[32m----> \u001b[39m\u001b[32m2\u001b[39m     \u001b[38;5;28;01mreturn\u001b[39;00m a / b\n",
            "\u001b[31mZeroDivisionError\u001b[39m: division by zero"
          ]
        }
      ],
      "source": [
        "values = [1, 2, 3, 0, 4]\n",
        "total = 0\n",
        "for v in values:\n",
        "    # Set a conditional breakpoint here with expression: v == 0\n",
        "    total += compute_ratio(10, v)\n",
        "total\n"
      ]
    }
  ],
  "metadata": {
    "kernelspec": {
      "display_name": "mude-base",
      "language": "python",
      "name": "python3"
    },
    "language_info": {
      "codemirror_mode": {
        "name": "ipython",
        "version": 3
      },
      "file_extension": ".py",
      "mimetype": "text/x-python",
      "name": "python",
      "nbconvert_exporter": "python",
      "pygments_lexer": "ipython3",
      "version": "3.12.11"
    }
  },
  "nbformat": 4,
  "nbformat_minor": 5
}
