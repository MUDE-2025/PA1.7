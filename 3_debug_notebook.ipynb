{
 "cells": [
  {
   "cell_type": "markdown",
   "id": "1925b225",
   "metadata": {},
   "source": [
    "# Debugging a Jupyter Notebook cell\n",
    "\n",
    "This can be ... problematic. There is a known issue with debugging Jupyter Notebooks in VS Code that makes working with it very frustrating from time to time, as described here: https://github.com/microsoft/vscode/issues/150219\n",
    "\n",
    "If you want to debug a Jupyter Notebook cell, click the arrow next to the cell and select \"Debug Cell\": \n",
    "\n",
    "![](https://code.visualstudio.com/assets/docs/datascience/jupyter/debug-cell.png)\n",
    "\n",
    "This arrow sometimes disappear. If that happens, click in the toolbar: View - > Command Palette... and type \"Developer: Reload Window\". This will reload the VS Code window and the arrow should appear again. Otherwise, you can click `Ctrl` + `Shift` + `Alt` + `Enter` to start debugging a specific cell.\n",
    "\n",
    "If this all works, you can debug notebooks in the same way as Python files, with breakpoints, stepping, inspecting variables, etc."
   ]
  },
  {
   "cell_type": "code",
   "execution_count": null,
   "id": "a9a4d18f",
   "metadata": {
    "tags": [
     "assignment"
    ]
   },
   "outputs": [],
   "source": [
    "def compute_ratio(a, b):\n",
    "    return a / b  # Put a breakpoint here, b can be 0\n"
   ]
  },
  {
   "cell_type": "code",
   "execution_count": null,
   "id": "f3ccde00",
   "metadata": {},
   "outputs": [],
   "source": [
    "values = [1, 2, 3, 0, 4]\n",
    "total = 0\n",
    "for v in values:\n",
    "    # Set a conditional breakpoint here with expression: v == 0\n",
    "    total += compute_ratio(10, v)\n",
    "total"
   ]
  }
 ],
 "metadata": {
  "kernelspec": {
   "display_name": "mude-base",
   "language": "python",
   "name": "python3"
  },
  "language_info": {
   "codemirror_mode": {
    "name": "ipython",
    "version": 3
   },
   "file_extension": ".py",
   "mimetype": "text/x-python",
   "name": "python",
   "nbconvert_exporter": "python",
   "pygments_lexer": "ipython3",
   "version": "3.12.11"
  }
 },
 "nbformat": 4,
 "nbformat_minor": 5
}
