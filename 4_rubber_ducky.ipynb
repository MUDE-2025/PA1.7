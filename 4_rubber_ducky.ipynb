{
 "cells": [
  {
   "cell_type": "markdown",
   "id": "161a4ff7",
   "metadata": {},
   "source": [
    "# Rubber Ducky Debugging\n",
    "\n",
    "If you are having troubles finding out where an error is in your code, you can also turn to 'Rubber Ducky Debugging'. \n",
    "The idea of this is that it forces you to explain, in very simple language and step-by-step, what you want your code to do and what each line of code does. Your rubber ducky does not need to study engineering, they have a very simple life, so they need a very gentle introduction to your code. Often, you will find an error in the code logic while talking through it. This is not to say that your rubber ducky is not smart, they are simply smart in other ways. \n",
    "\n",
    "You can read more about Rubber Ducky Debugging here: https://rubberduckdebugging.com/ \n",
    "\n",
    "![duck](https://files.mude.citg.tudelft.nl/ducks.png)  \n",
    "\n",
    "## Task 4.1 Get a rubber duck\n",
    "\n",
    "You can have your choice of duck. If you are not able to obtain a duck, a goose (not angry) will also do the trick. \n",
    "\n",
    "## Task 4.2 Name your rubber duck\n",
    "\n",
    "We especially encourage pun names. This is important to build a rapport with your duck. Tip: calling your duck goose or your goose duck is always hilarious.\n",
    "\n",
    "## Task 4.3 Do some debugging!\n",
    "\n",
    "Below are some short snippets of code. See if you can find out what the bugs are, with your new friend.\n",
    "\n",
    "**You do not need to submit anything for this task**\n"
   ]
  },
  {
   "cell_type": "code",
   "execution_count": 1,
   "id": "fc07e05c",
   "metadata": {
    "execution": {
     "iopub.execute_input": "2025-10-31T10:23:30.230247Z",
     "iopub.status.busy": "2025-10-31T10:23:30.230097Z",
     "iopub.status.idle": "2025-10-31T10:23:30.234315Z",
     "shell.execute_reply": "2025-10-31T10:23:30.233551Z"
    }
   },
   "outputs": [
    {
     "name": "stdout",
     "output_type": "stream",
     "text": [
      "4.0\n"
     ]
    }
   ],
   "source": [
    "# This function should calculate the average, given a list of numbers\n",
    "\n",
    "def average(numbers):\n",
    "    total = 0\n",
    "    for n in numbers:\n",
    "        total = total + n\n",
    "    avg = total / len(numbers) -1\n",
    "    return avg\n",
    "\n",
    "print(average([3, 5, 7]))"
   ]
  },
  {
   "cell_type": "markdown",
   "id": "14d17da2",
   "metadata": {},
   "source": [
    "<div style=\"background-color:#FAE99E; color: black; width:95%; vertical-align: middle; padding:15px; margin: 10px; border-radius: 10px\">\n",
    "\n",
    "**Solution:**\n",
    "\n",
    "- We create a variable `total` to store the maximum value and set it to `0`\n",
    "- We go through every number in the list of numbers:\n",
    "  - The total gets updated with the current number\n",
    "  - **Divide the current total by the number of numbers** but we should not subtract by 1!\n",
    "\n",
    "`avg = total / len(numbers) -1` should be changed to `avg = total / len(numbers)`. It will return `5`.\n",
    "\n",
    "</div>"
   ]
  },
  {
   "cell_type": "code",
   "execution_count": 2,
   "id": "53770de7",
   "metadata": {
    "execution": {
     "iopub.execute_input": "2025-10-31T10:23:30.235809Z",
     "iopub.status.busy": "2025-10-31T10:23:30.235639Z",
     "iopub.status.idle": "2025-10-31T10:23:30.239169Z",
     "shell.execute_reply": "2025-10-31T10:23:30.238425Z"
    }
   },
   "outputs": [
    {
     "name": "stdout",
     "output_type": "stream",
     "text": [
      "0\n"
     ]
    }
   ],
   "source": [
    "# This function should find the highest value in a list of numbers\n",
    "\n",
    "def find_max(numbers):\n",
    "    max_val = 0 \n",
    "    for n in numbers:\n",
    "        if n > max_val:\n",
    "            max_val = n\n",
    "    return max_val\n",
    "\n",
    "print(find_max([-3, -5, -1]))"
   ]
  },
  {
   "cell_type": "markdown",
   "id": "a4853ac6",
   "metadata": {},
   "source": [
    "<div style=\"background-color:#FAE99E; color: black; width:95%; vertical-align: middle; padding:15px; margin: 10px; border-radius: 10px\">\n",
    "\n",
    "**Solution:**\n",
    "\n",
    "- We create a variable `max_val` to store the maximum value and set it to `0`\n",
    "- We go through every number in the list of numbers:\n",
    "  - If the current number us higher than the value of `max_val`, replace it.\n",
    "  - Otherwise, keep it as is.\n",
    "- **There is no condition for negative numbers**\n",
    "\n",
    "Instead of picking a value to initialise `max_val` at, we can tell it it initialise at the first entry of the list of numbers. This way we know that only numbers in the given list is evaluated.`max_val = 0` should be changed to `max_val = numbers[0]`. It will return `-1`.\n",
    "\n",
    "</div>"
   ]
  },
  {
   "cell_type": "code",
   "execution_count": 3,
   "id": "809618b9",
   "metadata": {
    "execution": {
     "iopub.execute_input": "2025-10-31T10:23:30.240595Z",
     "iopub.status.busy": "2025-10-31T10:23:30.240459Z",
     "iopub.status.idle": "2025-10-31T10:23:30.244013Z",
     "shell.execute_reply": "2025-10-31T10:23:30.243334Z"
    }
   },
   "outputs": [
    {
     "name": "stdout",
     "output_type": "stream",
     "text": [
      "8\n"
     ]
    }
   ],
   "source": [
    "# This function should sum all the even values in a list of numbers\n",
    "\n",
    "def sum_evens(numbers):\n",
    "    total = 0\n",
    "    for n in numbers:\n",
    "        if n % 2 == 0:\n",
    "            total += n\n",
    "        else:\n",
    "            total = 0 \n",
    "    return total\n",
    "\n",
    "print(sum_evens([1, 2, 4, 5, 8]))"
   ]
  },
  {
   "cell_type": "markdown",
   "id": "edc2db13",
   "metadata": {},
   "source": [
    "<div style=\"background-color:#FAE99E; color: black; width:95%; vertical-align: middle; padding:15px; margin: 10px; border-radius: 10px\">\n",
    "\n",
    "**Solution:**\n",
    "\n",
    "- We create a variable `total` to store the current sum and set it to `0`\n",
    "- We go through every number in the list of numbers:\n",
    "  - If the current number is divisible by 2, add this to `total`\n",
    "  - **If not, the total is set to 0** this resets the total, irrespective if the value has been updated previously!\n",
    "\n",
    "Instead of resetting `total` each time an odd number is encountered, we should simply skip the number. We can do this by simply removing the else statement completely. It will return `14`.\n",
    "\n",
    "</div>"
   ]
  }
 ],
 "metadata": {
  "kernelspec": {
   "display_name": "mude-base",
   "language": "python",
   "name": "python3"
  },
  "language_info": {
   "codemirror_mode": {
    "name": "ipython",
    "version": 3
   },
   "file_extension": ".py",
   "mimetype": "text/x-python",
   "name": "python",
   "nbconvert_exporter": "python",
   "pygments_lexer": "ipython3",
   "version": "3.12.12"
  }
 },
 "nbformat": 4,
 "nbformat_minor": 5
}
