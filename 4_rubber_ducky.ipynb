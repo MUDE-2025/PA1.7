{
 "cells": [
  {
   "cell_type": "markdown",
   "id": "161a4ff7",
   "metadata": {},
   "source": [
    "# Rubber Ducky Debugging\n",
    "\n",
    "If you are having troubles finding out where an error is in your code, you can also turn to 'Rubber Ducky Debugging'. \n",
    "The idea of this is that it forces you to explain, in very simple language and step-by-step, what you want your code to do and what each line of code does. Your rubber ducky does not need to study engineering, they have a very simple life, so they need a very gentle introduction to your code. Often, you will find an error in the code logic while talking through it. This is not to say that your rubber ducky is not smart, they are simply smart in other ways. \n",
    "\n",
    "You can read more about Rubber Ducky Debugging here: https://rubberduckdebugging.com/ \n",
    "\n",
    "![duck](https://files.mude.citg.tudelft.nl/ducks.png)  \n",
    "\n",
    "## Task 4.1 Get a rubber duck\n",
    "\n",
    "You can have your choice of duck. If you are not able to obtain a duck, a goose (not angry) will also do the trick. \n",
    "\n",
    "## Task 4.2 Name your rubber duck\n",
    "\n",
    "We especially encourage pun names. This is important to build a rapport with your duck. Tip: calling your duck goose or your goose duck is always hilarious.\n",
    "\n",
    "## Task 4.3 Do some debugging!\n",
    "\n",
    "Below are some short snippets of code. See if you can find out what the bugs are, with your new friend.\n",
    "\n",
    "**You do not need to submit anything for this task**\n"
   ]
  },
  {
   "cell_type": "code",
   "execution_count": null,
   "id": "fc07e05c",
   "metadata": {},
   "outputs": [],
   "source": [
    "# This function should calculate the average, given a list of numbers\n",
    "\n",
    "def average(numbers):\n",
    "    total = 0\n",
    "    for n in numbers:\n",
    "        total = total + n\n",
    "    avg = total / len(numbers) -1\n",
    "    return avg\n",
    "\n",
    "print(average([3, 5, 7]))"
   ]
  },
  {
   "cell_type": "code",
   "execution_count": null,
   "id": "53770de7",
   "metadata": {},
   "outputs": [],
   "source": [
    "# This function should find the highest value in a list of numbers\n",
    "\n",
    "def find_max(numbers):\n",
    "    max_val = 0 \n",
    "    for n in numbers:\n",
    "        if n > max_val:\n",
    "            max_val = n\n",
    "    return max_val\n",
    "\n",
    "print(find_max([-3, -5, -1]))"
   ]
  },
  {
   "cell_type": "code",
   "execution_count": null,
   "id": "809618b9",
   "metadata": {},
   "outputs": [],
   "source": [
    "# This function should sum all the even values in a list of numbers\n",
    "\n",
    "def sum_evens(numbers):\n",
    "    total = 0\n",
    "    for n in numbers:\n",
    "        if n % 2 == 0:\n",
    "            total += n\n",
    "        else:\n",
    "            total = 0 \n",
    "    return total\n",
    "\n",
    "print(sum_evens([1, 2, 4, 5, 8]))"
   ]
  }
 ],
 "metadata": {
  "kernelspec": {
   "display_name": "mude-base",
   "language": "python",
   "name": "python3"
  },
  "language_info": {
   "codemirror_mode": {
    "name": "ipython",
    "version": 3
   },
   "file_extension": ".py",
   "mimetype": "text/x-python",
   "name": "python",
   "nbconvert_exporter": "python",
   "pygments_lexer": "ipython3",
   "version": "3.12.11"
  }
 },
 "nbformat": 4,
 "nbformat_minor": 5
}
